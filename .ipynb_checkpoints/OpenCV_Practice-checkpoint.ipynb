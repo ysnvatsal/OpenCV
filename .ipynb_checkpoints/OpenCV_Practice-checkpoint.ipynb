{
 "cells": [
  {
   "cell_type": "code",
   "execution_count": null,
   "metadata": {},
   "outputs": [],
   "source": [
    "import cv2\n",
    "\n",
    "#Load input image\n",
    "\n",
    "image = cv2.imread('C:/Users/Naveen Vatsal/Documents/Data/Master OpenCV/images/input.jpg')\n",
    "cv2.imshow('Original', image)\n",
    "cv2.waitKey()\n",
    "\n",
    "# We use cvtcolor to convert into grayscale\n",
    "gray_image = cv2.cvtColor(image, cv2.COLOR_BGR2GRAY)\n",
    "\n",
    "cv2.imshow('Grayscale', gray_image)\n",
    "cv2.waitKey()\n",
    "cv2.destroyAllWindows()"
   ]
  },
  {
   "cell_type": "code",
   "execution_count": null,
   "metadata": {},
   "outputs": [],
   "source": [
    "#Shape gives dimensions of an array\n",
    "import cv2\n",
    "import numpy as np\n",
    "input = cv2.imread('C:/Users/Naveen Vatsal/Documents/Data/Master OpenCV/images/input.jpg')\n",
    "cv2.imshow('Hello World', input)\n",
    "cv2.waitKey(0)\n",
    "cv2.destroyAllWindows\n",
    "print(input.shape)"
   ]
  },
  {
   "cell_type": "markdown",
   "metadata": {},
   "source": [
    "# GrayScaling\n",
    "**Lets convert out color image into grayscale**"
   ]
  },
  {
   "cell_type": "code",
   "execution_count": 2,
   "metadata": {},
   "outputs": [],
   "source": [
    "#Faster method to convert to the grayscale\n",
    "\n",
    "import cv2\n",
    "input  = cv2.imread('C:/Users/Naveen Vatsal/Documents/Data/Master OpenCV/images/input.jpg',0)\n",
    "cv2.imshow('Grayscale Image', input)\n",
    "cv2.waitKey()\n",
    "cv2.destroyAllWindows()\n",
    "    "
   ]
  },
  {
   "cell_type": "code",
   "execution_count": 8,
   "metadata": {},
   "outputs": [
    {
     "name": "stdout",
     "output_type": "stream",
     "text": [
      "(415, 622)\n"
     ]
    }
   ],
   "source": [
    "#Splitting image based on colors\n",
    "\n",
    "image = cv2.imread('C:/Users/Naveen Vatsal/Documents/Data/Master OpenCV/images/input.jpg')\n",
    "B, G, R = cv2.split(image)\n",
    "print(B.shape)\n",
    "cv2.imshow(\"Red\", R)\n",
    "cv2.imshow(\"Green\", G)\n",
    "cv2.imshow(\"Blue\", B)\n",
    "\n",
    "cv2.waitKey()\n",
    "cv2.destroyAllWindows()\n",
    "\n",
    "# Let's remake the original image\n",
    "merged = cv2.merge([B,G,R])\n",
    "cv2.imshow(\"Merged\",merged)\n",
    "\n",
    "#Let's amplify the Blue color\n",
    "merged = cv2.merge([B+100,G,R])\n",
    "cv2.imshow('Enhanced Blue', merged)\n",
    "\n",
    "cv2.waitKey()\n",
    "cv2.destroyAllWindows()"
   ]
  },
  {
   "cell_type": "code",
   "execution_count": 2,
   "metadata": {},
   "outputs": [
    {
     "data": {
      "text/plain": [
       "(415, 622)"
      ]
     },
     "execution_count": 2,
     "metadata": {},
     "output_type": "execute_result"
    }
   ],
   "source": [
    "import cv2\n",
    "import numpy as np\n",
    "image = cv2.imread('C:/Users/Naveen Vatsal/Documents/Data/Master OpenCV/images/input.jpg')\n",
    "B, G, R = cv2.split(image)\n",
    "\n",
    "#Let's create matrix of zeros\n",
    "zeros = np.zeros(image.shape[:2], dtype = \"uint8\")\n",
    "\n",
    "cv2.imshow(\"Red\", cv2.merge([zeros,zeros, R]))\n",
    "cv2.imshow(\"Green\", cv2.merge([zeros, G,zeros]))\n",
    "cv2.imshow(\"Blue\", cv2.merge([B, zeros, zeros]))\n",
    "\n",
    "cv2.waitKey()\n",
    "cv2.destroyAllWindows()"
   ]
  },
  {
   "cell_type": "code",
   "execution_count": 6,
   "metadata": {},
   "outputs": [
    {
     "data": {
      "image/png": "[encoded data removed]",
      "text/plain": [
       "<Figure size 432x288 with 1 Axes>"
      ]
     },
     "metadata": {
      "needs_background": "light"
     },
     "output_type": "display_data"
    },
    {
     "data": {
      "image/png": "[encoded data removed]",
      "text/plain": [
       "<Figure size 432x288 with 1 Axes>"
      ]
     },
     "metadata": {
      "needs_background": "light"
     },
     "output_type": "display_data"
    }
   ],
   "source": [
    "import cv2\n",
    "import numpy as np\n",
    "\n",
    "# We need to import matplotlib to create our histogram plots\n",
    "from matplotlib import pyplot as plt\n",
    "\n",
    "image = cv2.imread('C:/Users/Naveen Vatsal/Documents/Data/Master OpenCV/images/tobago.jpg')\n",
    "cv2.imshow(\"Tobago\", image) \n",
    "\n",
    "cv2.waitKey(0)\n",
    "cv2.destroyAllWindows()\n",
    "\n",
    "histogram = cv2.calcHist([image], [0], None, [256], [0, 256])\n",
    "\n",
    "# We plot a histogram, ravel() flatens our image array \n",
    "plt.hist(image.ravel(), 256, [0, 256])\n",
    "plt.show()\n",
    "\n",
    "# Viewing Separate Color Channels\n",
    "color = ('b', 'g', 'r')\n",
    "\n",
    "# We now separate the colors and plot each in the Histogram\n",
    "for i, col in enumerate(color):\n",
    "    histogram2 = cv2.calcHist([image], [i], None, [256], [0, 256])\n",
    "    plt.plot(histogram2, color = col)\n",
    "    plt.xlim([0,256])\n",
    "    \n",
    "plt.show()"
   ]
  },
  {
   "cell_type": "markdown",
   "metadata": {},
   "source": [
    "# Lets Draw a line\n",
    "cv2.line(image, starting coordinates, ending coordinates, color, thickness)"
   ]
  },
  {
   "cell_type": "code",
   "execution_count": 7,
   "metadata": {},
   "outputs": [],
   "source": [
    "#Draw diagonal blue line of thickness 5 pixels\n",
    "import cv2\n",
    "import numpy as np\n",
    "image = np.zeros((512,512,3), np.uint8)\n",
    "cv2.line(image, (0,0), (200,200), (255,127,0),5)\n",
    "cv2.imshow(\"Blue Line\", image)\n",
    "\n",
    "cv2.waitKey(0)\n",
    "cv2.destroyAllWindows()"
   ]
  },
  {
   "cell_type": "markdown",
   "metadata": {},
   "source": [
    "# Let's now draw a rectangle\n",
    "cv2.rectangle(image, starting coordinate, ending coordinates, color, thickness)"
   ]
  },
  {
   "cell_type": "code",
   "execution_count": null,
   "metadata": {},
   "outputs": [],
   "source": [
    "import cv2\n",
    "import numpy as np\n",
    "image = np.zeros((512,512,3), np.uint8)\n",
    "cv2.rectangle(image, (100,100), (300, 200), (127,50,127),5)\n",
    "cv2.imshow(\"Rectangle\", image)\n",
    "\n",
    "cv2.waitKey(0)\n",
    "cv2.destroyAllWindows()"
   ]
  },
  {
   "cell_type": "markdown",
   "metadata": {},
   "source": [
    "# Let's now draw a circle\n",
    "cv2.circle(image, center, radius, color, thickness)"
   ]
  },
  {
   "cell_type": "code",
   "execution_count": null,
   "metadata": {},
   "outputs": [],
   "source": [
    "import cv2\n",
    "import numpy as np\n",
    "image = np.zeros((512,512,3), np.uint8)\n",
    "cv2.circle(image, (350,350), 100, (127,50,127),5)\n",
    "cv2.imshow(\"Circle\", image)\n",
    "\n",
    "cv2.waitKey(0)\n",
    "cv2.destroyAllWindows()"
   ]
  },
  {
   "cell_type": "markdown",
   "metadata": {},
   "source": [
    "### Let's even add text with cv2.putText\n",
    "\n",
    "cv2.putText(image, 'Text to Display', bottom left starting point, Font, Font Size, Color, Thickness)\n",
    "\n",
    "- FONT_HERSHEY_SIMPLEX, FONT_HERSHEY_PLAIN\n",
    "- FONT_HERSHEY_DUPLEX,FONT_HERSHEY_COMPLEX \n",
    "- FONT_HERSHEY_TRIPLEX, FONT_HERSHEY_COMPLEX_SMALL\n",
    "- FONT_HERSHEY_SCRIPT_SIMPLEX\n",
    "- FONT_HERSHEY_SCRIPT_COMPLEX"
   ]
  },
  {
   "cell_type": "code",
   "execution_count": 8,
   "metadata": {},
   "outputs": [],
   "source": [
    "image = np.zeros((512,512,3), np.uint8)\n",
    "\n",
    "cv2.putText(image, 'Hello World!', (75,290), cv2.FONT_HERSHEY_COMPLEX, 2, (100,170,0), 3)\n",
    "cv2.imshow(\"Hello World!\", image)\n",
    "cv2.waitKey(0)\n",
    "cv2.destroyAllWindows()"
   ]
  },
  {
   "cell_type": "code",
   "execution_count": null,
   "metadata": {},
   "outputs": [],
   "source": []
  },
  {
   "cell_type": "code",
   "execution_count": null,
   "metadata": {},
   "outputs": [],
   "source": []
  },
  {
   "cell_type": "code",
   "execution_count": null,
   "metadata": {},
   "outputs": [],
   "source": []
  },
  {
   "cell_type": "code",
   "execution_count": null,
   "metadata": {},
   "outputs": [],
   "source": []
  },
  {
   "cell_type": "code",
   "execution_count": null,
   "metadata": {},
   "outputs": [],
   "source": []
  },
  {
   "cell_type": "code",
   "execution_count": null,
   "metadata": {},
   "outputs": [],
   "source": []
  },
  {
   "cell_type": "code",
   "execution_count": null,
   "metadata": {},
   "outputs": [],
   "source": []
  },
  {
   "cell_type": "code",
   "execution_count": null,
   "metadata": {},
   "outputs": [],
   "source": []
  },
  {
   "cell_type": "code",
   "execution_count": null,
   "metadata": {},
   "outputs": [],
   "source": []
  },
  {
   "cell_type": "code",
   "execution_count": null,
   "metadata": {},
   "outputs": [],
   "source": []
  }
 ],
 "metadata": {
  "kernelspec": {
   "display_name": "Python 3",
   "language": "python",
   "name": "python3"
  },
  "language_info": {
   "codemirror_mode": {
    "name": "ipython",
    "version": 3
   },
   "file_extension": ".py",
   "mimetype": "text/x-python",
   "name": "python",
   "nbconvert_exporter": "python",
   "pygments_lexer": "ipython3",
   "version": "3.7.3"
  }
 },
 "nbformat": 4,
 "nbformat_minor": 2
}
